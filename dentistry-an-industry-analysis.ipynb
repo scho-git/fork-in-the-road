{
 "cells": [
  {
   "cell_type": "markdown",
   "metadata": {
    "papermill": {
     "duration": 0.005945,
     "end_time": "2020-11-15T08:25:45.218178",
     "exception": false,
     "start_time": "2020-11-15T08:25:45.212233",
     "status": "completed"
    },
    "tags": []
   },
   "source": [
    "# An analysis of the industry outlook in Dentristy\n",
    "\n",
    "This analysis is for my personal use, based on my personal preferences.\n",
    "\n",
    "I'm currently at a crossroads, between possibly Data Science and Dentistry. I'm currently at the beginning stages of both, and while one requires more bandwidth up front, both are pretty time-consuming in my opinion.\n",
    "\n",
    "As such, as any other analytical person would do, I'm analyzing the best decision to make based on the best way I know how: analyzing and taking count of the best way to approach it."
   ]
  },
  {
   "cell_type": "markdown",
   "metadata": {
    "papermill": {
     "duration": 0.004568,
     "end_time": "2020-11-15T08:25:45.228112",
     "exception": false,
     "start_time": "2020-11-15T08:25:45.223544",
     "status": "completed"
    },
    "tags": []
   },
   "source": [
    "> *Two roads diverged in a yellow wood,\n",
    "> And sorry I could not travel both\n",
    "> And be one traveler, long I stood\n",
    "> And looked down one as far as I could\n",
    "> To where it bent in the undergrowth;*"
   ]
  },
  {
   "cell_type": "markdown",
   "metadata": {
    "papermill": {
     "duration": 0.004475,
     "end_time": "2020-11-15T08:25:45.239374",
     "exception": false,
     "start_time": "2020-11-15T08:25:45.234899",
     "status": "completed"
    },
    "tags": []
   },
   "source": [
    "## Objective\n",
    "\n",
    "The objective of this notebook is to analyze industry data to answer an important personal question: which is the best career path for me? This is where my analytical skills will come into play to investigate which is the best option.\n",
    "\n",
    "## Data\n",
    "\n",
    "I will be taking data from the American Dental Association (ADA). The ADA is an organization for professional dentists in the USA. Primarily, I will be using their data... Understandably, some of the data is outdated (more than 5 years ago), but is a comprehensive view of the industry... is an XUZ survey conducted by sof presenting a comprehensive view of the __.\n",
    "\n",
    "## Methodology\n",
    "\n",
    "This notebook will focus primarily on my personal preferences and priorities. Perhaps in the future, I will turn this into a larger classification project wherein any user will input their list of priorities in a career choice.\n",
    "\n",
    "The analysis will be three-fold:\n",
    "(bullet) Analysis of the industry data\n",
    "(bullet) Comparison of the industry data\n",
    "(bullet) How well each career path fits to my personal preferences and priorities\n",
    "\n",
    "In this notebook, I shall analyze the industry under __ different categories, namely:\n",
    "(bullet) Industry trend/growth/stability\n",
    "(bullet) Salary\n",
    "(sub-bullet) Education Needed & Costs\n",
    "(bullet) How satisfied/happy people are\n",
    "(sub-bullet) Risks of the job\n",
    "(bullet) Skillset needed\n",
    "(sub-bullet) Transferable skills\n",
    "(bullet) Company vs. Own Business\n",
    "(sub-bullet) Pros vs. Cons of each (SEPARATE NOTEBOOK FOR THIS?)\n",
    "(bullet) Locations (do want to end up in a farm in Switzerland one day)\n",
    "\n",
    "# Dentistry in Today's Environment\n",
    "\n",
    "Salary/Debt, Who (gender), Specialization, Where?\n",
    "\n",
    "In comparison to previous years: growth? (dental school students data to forecast future growth?)\n",
    "\n",
    "Data of dentistry business companies vs. ownerships\n",
    "\n",
    "Risks: aggressive patients, physical strain, small spaces\n",
    "\n",
    "Types of skillset needed:\n",
    "\n",
    "## My Preferences?\n",
    "\n",
    "In theh future: add in sliders for preferences wherein users can slide how much they prioritize each preference, and the algorithm will classify which career path will be better for the user."
   ]
  },
  {
   "cell_type": "code",
   "execution_count": 1,
   "metadata": {
    "_cell_guid": "b1076dfc-b9ad-4769-8c92-a6c4dae69d19",
    "_uuid": "8f2839f25d086af736a60e9eeb907d3b93b6e0e5",
    "execution": {
     "iopub.execute_input": "2020-11-15T08:25:45.257593Z",
     "iopub.status.busy": "2020-11-15T08:25:45.256455Z",
     "iopub.status.idle": "2020-11-15T08:25:45.260017Z",
     "shell.execute_reply": "2020-11-15T08:25:45.259318Z"
    },
    "papermill": {
     "duration": 0.015877,
     "end_time": "2020-11-15T08:25:45.260157",
     "exception": false,
     "start_time": "2020-11-15T08:25:45.244280",
     "status": "completed"
    },
    "tags": []
   },
   "outputs": [],
   "source": [
    "# This Python 3 environment comes with many helpful analytics libraries installed\n",
    "# It is defined by the kaggle/python Docker image: https://github.com/kaggle/docker-python\n",
    "# For example, here's several helpful packages to load\n",
    "\n",
    "import numpy as np # linear algebra\n",
    "import pandas as pd # data processing, CSV file I/O (e.g. pd.read_csv)\n",
    "\n",
    "# Input data files are available in the read-only \"../input/\" directory\n",
    "# For example, running this (by clicking run or pressing Shift+Enter) will list all files under the input directory\n",
    "\n",
    "import os\n",
    "for dirname, _, filenames in os.walk('/kaggle/input'):\n",
    "    for filename in filenames:\n",
    "        print(os.path.join(dirname, filename))\n",
    "\n",
    "# You can write up to 20GB to the current directory (/kaggle/working/) that gets preserved as output when you create a version using \"Save & Run All\" \n",
    "# You can also write temporary files to /kaggle/temp/, but they won't be saved outside of the current session"
   ]
  },
  {
   "cell_type": "code",
   "execution_count": null,
   "metadata": {
    "_cell_guid": "79c7e3d0-c299-4dcb-8224-4455121ee9b0",
    "_uuid": "d629ff2d2480ee46fbb7e2d37f6b5fab8052498a",
    "collapsed": true,
    "papermill": {
     "duration": 0.004666,
     "end_time": "2020-11-15T08:25:45.270176",
     "exception": false,
     "start_time": "2020-11-15T08:25:45.265510",
     "status": "completed"
    },
    "tags": []
   },
   "outputs": [],
   "source": []
  }
 ],
 "metadata": {
  "kernelspec": {
   "display_name": "Python 3",
   "language": "python",
   "name": "python3"
  },
  "language_info": {
   "codemirror_mode": {
    "name": "ipython",
    "version": 3
   },
   "file_extension": ".py",
   "mimetype": "text/x-python",
   "name": "python",
   "nbconvert_exporter": "python",
   "pygments_lexer": "ipython3",
   "version": "3.7.6"
  },
  "papermill": {
   "duration": 5.311039,
   "end_time": "2020-11-15T08:25:45.383036",
   "environment_variables": {},
   "exception": null,
   "input_path": "__notebook__.ipynb",
   "output_path": "__notebook__.ipynb",
   "parameters": {},
   "start_time": "2020-11-15T08:25:40.071997",
   "version": "2.1.0"
  }
 },
 "nbformat": 4,
 "nbformat_minor": 4
}
